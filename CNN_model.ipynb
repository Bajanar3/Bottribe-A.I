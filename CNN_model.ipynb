{
  "nbformat": 4,
  "nbformat_minor": 0,
  "metadata": {
    "colab": {
      "name": "CNN model.ipynb",
      "provenance": [],
      "collapsed_sections": [],
      "include_colab_link": true
    },
    "kernelspec": {
      "name": "python3",
      "display_name": "Python 3"
    },
    "accelerator": "GPU"
  },
  "cells": [
    {
      "cell_type": "markdown",
      "metadata": {
        "id": "view-in-github",
        "colab_type": "text"
      },
      "source": [
        "<a href=\"https://colab.research.google.com/github/Bajanar3/Grammar-Nazi/blob/master/CNN_model.ipynb\" target=\"_parent\"><img src=\"https://colab.research.google.com/assets/colab-badge.svg\" alt=\"Open In Colab\"/></a>"
      ]
    },
    {
      "cell_type": "code",
      "metadata": {
        "id": "sz9FfZ6KkKui",
        "colab_type": "code",
        "colab": {}
      },
      "source": [
        "from __future__ import absolute_import, division, print_function"
      ],
      "execution_count": 0,
      "outputs": []
    },
    {
      "cell_type": "code",
      "metadata": {
        "id": "aFJ__v-Sin76",
        "colab_type": "code",
        "colab": {
          "base_uri": "https://localhost:8080/",
          "height": 34
        },
        "outputId": "22be5d37-4895-4e86-9cf9-4c35f3242ec9"
      },
      "source": [
        "try:\n",
        "  %tensorflow_version 2.x\n",
        "except: Exception\n",
        "pass\n"
      ],
      "execution_count": 20,
      "outputs": [
        {
          "output_type": "stream",
          "text": [
            "TensorFlow is already loaded. Please restart the runtime to change versions.\n"
          ],
          "name": "stdout"
        }
      ]
    },
    {
      "cell_type": "code",
      "metadata": {
        "id": "eGd1QcRQkWM9",
        "colab_type": "code",
        "colab": {}
      },
      "source": [
        "import tensorflow as tf\n",
        "import numpy as np\n",
        "import nltk\n",
        "import matplotlib.pyplot as plt\n",
        "import pandas as pd\n",
        "\n",
        "keras = tf.keras\n",
        "from keras import Sequential as model\n",
        "from keras.layers import Dense, Conv1D, InputLayer, MaxPooling1D\n",
        "from keras.losses import categorical_crossentropy\n",
        "from keras.optimizers import Adam\n"
      ],
      "execution_count": 0,
      "outputs": []
    },
    {
      "cell_type": "code",
      "metadata": {
        "id": "YtYKwj6tmJbz",
        "colab_type": "code",
        "colab": {}
      },
      "source": [
        "def get_dataset_files (filepath):\n",
        "  data = pd.read_excel(filepath, na_values=9999)\n",
        "  dataset = data.to_numpy()\n",
        "  return dataset\n",
        "\n",
        "def CNN_Model(training_set, validation_set, filter, kernel_size, epoch,  stride=1, padding='casual', activation='relu', patience=5):\n",
        "  model.add(InputLayer(input_shape=[None,1]))\n",
        "  model.add(Conv1D(filters=filter, \n",
        "                   kernel_size=kernel_size, \n",
        "                   strides=stride,\n",
        "                   padding=padding, \n",
        "                   activation=activation\n",
        "                   ))\n",
        "  model.add(MaxPooling1D(pool_size=2, \n",
        "                         padding='valid'))\n",
        "  model.add(Conv1D(filters=16, \n",
        "                   kernel_size=5,\n",
        "                   strides=1,\n",
        "                   padding=padding,\n",
        "                   activation=activation\n",
        "                   ))\n",
        "  model.add(MaxPooling1D(pool_size=2, \n",
        "                         padding='valid'))\n",
        "  model.add(Dense(1, activation='sigmoid'))\n",
        "  model.compile(optimizer='Adam',\n",
        "                loss='categorical_crossentropy',\n",
        "                metrics=['accuracy'])\n",
        "  callback = keras.callbacks.EarlyStopping(monitor='accuracy', patience=patience)\n",
        "  model_checkpoint = keras.callbacks.ModelCheckpoint('MyCNN_checkpoint', save_best_only=True )\n",
        "  history = model.fit(x=training_set, y=validation_set, batch_size=None, epochs=epoch, validation_split=0.2, callbacks=[callback, model_checkpoint])\n",
        "  return history \n",
        "\n",
        "\n",
        "def CNNModel_forecast(model_filepath, series, window_size):\n",
        "    model = keras.models.load_model(filepath=model_filepath)\n",
        "    ds = tf.data.Dataset.from_tensor_slices(series)\n",
        "    ds = ds.window(window_size, shift=1, drop_remainder=True)\n",
        "    ds = ds.flat_map(lambda w: w.batch(window_size))\n",
        "    ds = ds.batch(32).prefetch(1)\n",
        "    forecast = model.predict(ds)\n",
        "    return forecast\n"
      ],
      "execution_count": 0,
      "outputs": []
    },
    {
      "cell_type": "code",
      "metadata": {
        "id": "2ETEbJp97Lmb",
        "colab_type": "code",
        "colab": {}
      },
      "source": [
        ""
      ],
      "execution_count": 0,
      "outputs": []
    }
  ]
}