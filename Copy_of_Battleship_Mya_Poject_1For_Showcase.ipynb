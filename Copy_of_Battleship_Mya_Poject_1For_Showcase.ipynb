{
  "nbformat": 4,
  "nbformat_minor": 0,
  "metadata": {
    "colab": {
      "name": "Copy_of_Battleship_Mya_Poject_1For_Showcase.ipynb",
      "provenance": [],
      "collapsed_sections": [],
      "include_colab_link": true
    },
    "kernelspec": {
      "name": "python3",
      "display_name": "Python 3"
    },
    "language_info": {
      "name": "python"
    }
  },
  "cells": [
    {
      "cell_type": "markdown",
      "metadata": {
        "id": "view-in-github",
        "colab_type": "text"
      },
      "source": [
        "<a href=\"https://colab.research.google.com/github/Bajanar3/Bottribe-A.I/blob/master/Copy_of_Battleship_Mya_Poject_1For_Showcase.ipynb\" target=\"_parent\"><img src=\"https://colab.research.google.com/assets/colab-badge.svg\" alt=\"Open In Colab\"/></a>"
      ]
    },
    {
      "cell_type": "code",
      "metadata": {
        "id": "AtV0m-PSllQu"
      },
      "source": [
        "import numpy as np"
      ],
      "execution_count": null,
      "outputs": []
    },
    {
      "cell_type": "code",
      "metadata": {
        "id": "HCjdHYXXlwFQ"
      },
      "source": [
        "class Arena:\n",
        "    def __init__(self, size, *args, **kwargs):\n",
        "        self.size = size\n",
        "        self.game_lib = {   'cruiser': [1, 1, 1, 1, 1],\n",
        "                            'destroyer': [1,1,1],\n",
        "                            'frigate': [1,1,1,1],\n",
        "                            'patrol boat': [1,1]\n",
        "                        }\n",
        "        #self.battlefield = np.zeros(shape=(self.size,self.size))\n",
        "        return\n",
        "\n",
        "    def dimension(self):\n",
        "        if self.size > max([len(i) for i in self.game_lib.values()]):\n",
        "            self.battlefield = np.zeros(shape=(self.size,self.size))\n",
        "        else:\n",
        "            print(\"Battlefield is too small. Battlefield cannot be less than cruiser size.\")\n",
        "            self.battlefield = np.zeros(shape=(10,10))\n",
        "        return self.battlefield\n",
        "\n",
        "    def mine_field(self):\n",
        "        for _ in range(20):\n",
        "            x = np.random.randint(0,self.size)\n",
        "            y = np.random.randint(0,self.size)\n",
        "            self.battlefield.itemset((x, y), 2)\n",
        "        return self.battlefield\n",
        "\n",
        "    def set_board(self, ship, orientation, bow_coordinates, *args, **kwargs):\n",
        "        self.orientation = orientation\n",
        "        self.ship = ship\n",
        "        self.x, self.y = bow_coordinates\n",
        "        try:\n",
        "            if self.ship in self.game_lib:\n",
        "                ship_size = self.game_lib.get(self.ship)\n",
        "\n",
        "            if self.orientation in [\"horizontal\"]:\n",
        "                for i in range(len(ship_size)):\n",
        "                    self.battlefield.itemset((self.x, self.y + i), 1) #sets the item at the position of the array to the value 1\n",
        "           \n",
        "            if self.orientation in [\"vertical\"]:\n",
        "                for i in range(len(ship_size)):\n",
        "                    self.battlefield.itemset((self.x + i, self.y), 1)\n",
        "        except IndexError: #this is a specific exception for when the index is exceeded.\n",
        "            print(\"Ship placement out of bounds\")\n",
        "        self.battlefield = self.battlefield\n",
        "        return self.battlefield\n",
        "\n",
        "    def __call__(self):\n",
        "        return self.battlefield\n",
        "    pass\n",
        "    "
      ],
      "execution_count": null,
      "outputs": []
    },
    {
      "cell_type": "code",
      "metadata": {
        "id": "T-aCqSBGQssU"
      },
      "source": [
        "def showgame(game_board):\n",
        "    \n",
        "    font_dict={\n",
        "    \"family\":\"serif\",\n",
        "    \"weight\": \"bold\",\n",
        "    \"size\": \"20\"\n",
        "    }\n",
        "    import matplotlib.pyplot as plt\n",
        "    plt.figure(figsize=(15,15), facecolor=\"lightblue\")\n",
        "    plt.title( label=(\"OCEAN WAR\"), fontdict=font_dict, pad=20)\n",
        "    plt.grid(b=True, which='both')\n",
        "    plt.imshow(game_board, cmap=\"Blues\")"
      ],
      "execution_count": null,
      "outputs": []
    },
    {
      "cell_type": "code",
      "metadata": {
        "id": "m7H-ga1m9gM7",
        "colab": {
          "base_uri": "https://localhost:8080/"
        },
        "cellView": "code",
        "outputId": "cbe1e72c-0467-4821-a26d-0610d43d6f98"
      },
      "source": [
        "arena = Arena(10)\n",
        "arena.dimension()\n",
        "arena.mine_field()\n",
        "\n",
        "for _ in range(5):\n",
        "    ship = input(\"Available ships: cruiser, frigate, destroyer, patrol boat\\n\\nSelect ship type: \")\n",
        "    orientation = input(\"Orientation on the battlefield: \")\n",
        "    x = input(\"X_coordinates of the bow of the ship: \")\n",
        "    y = input(\"Y_coordinates of the bow of the ship: \")\n",
        "    game_board = arena.set_board(ship=str(ship), orientation=str(orientation), bow_coordinates=( int(x), int(y) ))\n",
        "#game_board\n"
      ],
      "execution_count": null,
      "outputs": [
        {
          "output_type": "stream",
          "text": [
            "Available ships: cruiser, frigate, destroyer, patrol boat\n",
            "\n",
            "Select ship type: cruiser\n",
            "Orientation on the battlefield: vertical\n",
            "X_coordinates of the bow of the ship: 0\n",
            "Y_coordinates of the bow of the ship: 0\n",
            "Available ships: cruiser, frigate, destroyer, patrol boat\n",
            "\n",
            "Select ship type: patrol boat\n",
            "Orientation on the battlefield: 4\n",
            "X_coordinates of the bow of the ship: 2\n",
            "Y_coordinates of the bow of the ship: 3\n",
            "Available ships: cruiser, frigate, destroyer, patrol boat\n",
            "\n",
            "Select ship type: patrol boat\n",
            "Orientation on the battlefield: horizontal\n",
            "X_coordinates of the bow of the ship: 8\n",
            "Y_coordinates of the bow of the ship: 0\n",
            "Available ships: cruiser, frigate, destroyer, patrol boat\n",
            "\n",
            "Select ship type: destroyer\n",
            "Orientation on the battlefield: horizontal\n",
            "X_coordinates of the bow of the ship: 5\n",
            "Y_coordinates of the bow of the ship: 3\n",
            "Available ships: cruiser, frigate, destroyer, patrol boat\n",
            "\n",
            "Select ship type: patrol boat\n",
            "Orientation on the battlefield: vertical\n",
            "X_coordinates of the bow of the ship: 0\n",
            "Y_coordinates of the bow of the ship: 8\n"
          ],
          "name": "stdout"
        }
      ]
    },
    {
      "cell_type": "code",
      "metadata": {
        "id": "j2TJJW8V20cV"
      },
      "source": [
        "new_turn = input(\"Would you like to play Battleship by Mya? \")\n",
        "while new_turn in [\"y\", \"yes\"]:\n",
        "    X = input(\"X value \")   \n",
        "    Y = input(\"Y value \")\n",
        "\n",
        "    status = game_board[int(X), int(Y)]\n",
        "    if int(status)==1:\n",
        "        print(\"KABOOM!\")\n",
        "        game_board.itemset((int(X),int(Y)), 0)\n",
        "    elif int(status)==2:\n",
        "        print(\"MINE HIT!\")\n",
        "        break\n",
        "    elif int(status)==0:\n",
        "        print(\"YOU MISSED!\")    \n",
        "    new_turn = input(\"Ready to fire?\")\n",
        "showgame(game_board)"
      ],
      "execution_count": null,
      "outputs": []
    },
    {
      "cell_type": "code",
      "metadata": {
        "id": "bLK9GlvZQnSQ",
        "colab": {
          "base_uri": "https://localhost:8080/",
          "height": 1000
        },
        "outputId": "5277bf3b-7430-4fdc-c16e-40892346351d"
      },
      "source": [
        "showgame(game_board)"
      ],
      "execution_count": null,
      "outputs": [
        {
          "output_type": "display_data",
          "data": {
            "image/png": "[encoded data removed]",
            "text/plain": [
              "<Figure size 1440x1440 with 1 Axes>"
            ]
          },
          "metadata": {
            "tags": []
          }
        }
      ]
    }
  ]
}